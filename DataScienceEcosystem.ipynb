{
 "cells": [
  {
   "cell_type": "markdown",
   "id": "e8752fcf",
   "metadata": {},
   "source": [
    "# Data Science Tools and Ecosystem"
   ]
  },
  {
   "cell_type": "markdown",
   "id": "ef2bc131",
   "metadata": {},
   "source": [
    "In this notebook, Data science Tools and Ecosystem are summarized."
   ]
  },
  {
   "cell_type": "markdown",
   "id": "8a747c75",
   "metadata": {},
   "source": [
    "**Objectives:**\n",
    "* list popular languages for Data Science\n",
    "* list commonly used libraries used by Data scientist\n",
    "* Indicate few development environment open source tools used in data science"
   ]
  },
  {
   "cell_type": "markdown",
   "id": "aecfa588",
   "metadata": {},
   "source": [
    "Some of the popular languages that Data Scientists use are: \n",
    "1. python\n",
    "2. rstudio\n",
    "3. java"
   ]
  },
  {
   "cell_type": "markdown",
   "id": "17f514db",
   "metadata": {},
   "source": [
    "Some of the commonly used libraries used by Data Scientists include:\n",
    "1. TensorFlow \n",
    "2. NumPy\n",
    "3. Pandas"
   ]
  },
  {
   "cell_type": "markdown",
   "id": "6fd65656",
   "metadata": {},
   "source": [
    "Data Sience Tools|\n",
    "-----------------|\n",
    "Jupyter notebook|\n",
    "Rstudio|\n",
    "Visual studio code|"
   ]
  },
  {
   "cell_type": "markdown",
   "id": "449143d2",
   "metadata": {},
   "source": [
    "### Below are a few exemples of evaluating arithmetic expressions in python"
   ]
  },
  {
   "cell_type": "code",
   "execution_count": 2,
   "id": "a5250a61",
   "metadata": {},
   "outputs": [
    {
     "name": "stdout",
     "output_type": "stream",
     "text": [
      "17\n"
     ]
    }
   ],
   "source": [
    "#this is a simple arithmetic expression to multiply then add integers\n",
    "print((3*4)+5)"
   ]
  },
  {
   "cell_type": "code",
   "execution_count": 3,
   "id": "f6889b48",
   "metadata": {},
   "outputs": [
    {
     "name": "stdout",
     "output_type": "stream",
     "text": [
      "3.3333333333333335\n"
     ]
    }
   ],
   "source": [
    "#This will convert 200 minutes to hours by dividing by 60\n",
    "print(200/60)"
   ]
  },
  {
   "cell_type": "markdown",
   "id": "9ea78382",
   "metadata": {},
   "source": [
    "## Author\n",
    "Moustapha GUEYE"
   ]
  },
  {
   "cell_type": "code",
   "execution_count": null,
   "id": "d46dbc7b",
   "metadata": {},
   "outputs": [],
   "source": []
  }
 ],
 "metadata": {
  "kernelspec": {
   "display_name": "Python 3 (ipykernel)",
   "language": "python",
   "name": "python3"
  },
  "language_info": {
   "codemirror_mode": {
    "name": "ipython",
    "version": 3
   },
   "file_extension": ".py",
   "mimetype": "text/x-python",
   "name": "python",
   "nbconvert_exporter": "python",
   "pygments_lexer": "ipython3",
   "version": "3.11.3"
  }
 },
 "nbformat": 4,
 "nbformat_minor": 5
}
